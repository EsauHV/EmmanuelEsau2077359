{
  "nbformat": 4,
  "nbformat_minor": 0,
  "metadata": {
    "colab": {
      "provenance": [],
      "authorship_tag": "ABX9TyOFJyTMQIEecP978YjfUgaH",
      "include_colab_link": true
    },
    "kernelspec": {
      "name": "python3",
      "display_name": "Python 3"
    },
    "language_info": {
      "name": "python"
    }
  },
  "cells": [
    {
      "cell_type": "markdown",
      "metadata": {
        "id": "view-in-github",
        "colab_type": "text"
      },
      "source": [
        "<a href=\"https://colab.research.google.com/github/EsauHV/EmmanuelEsau2077359/blob/main/TAREA_A2_INTELIGENCIA_ARTIFICIAL.ipynb\" target=\"_parent\"><img src=\"https://colab.research.google.com/assets/colab-badge.svg\" alt=\"Open In Colab\"/></a>"
      ]
    },
    {
      "cell_type": "code",
      "execution_count": null,
      "metadata": {
        "id": "PxLSdfMOTVgy"
      },
      "outputs": [],
      "source": [
        "\"\"\"\n",
        "Nombre: Emmanuel Esaú Heraldez Valdez\n",
        "Matricula: 2077359\n",
        "Clase: Inteligencia Artificial.\n",
        "Título: A2, Ejercicios de PYTHON\n",
        "\"\"\""
      ]
    },
    {
      "cell_type": "code",
      "source": [
        "nombre = input(\"Por favor ingresa tu nombre: \")\n",
        "\n",
        "if nombre.lower() not in [\"ana\", \"juan\", \"pedro\"]:\n",
        "    print(\"Hola \" + nombre + \", ¿cómo estás?\")\n",
        "else:\n",
        "    print(\"Lo siento, no puedo saludar a \" + nombre + \".\")"
      ],
      "metadata": {
        "colab": {
          "base_uri": "https://localhost:8080/"
        },
        "id": "A6aOoZ0sT05j",
        "outputId": "b97c68f1-66f2-4e1c-af6c-8c096393c005"
      },
      "execution_count": 2,
      "outputs": [
        {
          "output_type": "stream",
          "name": "stdout",
          "text": [
            "Por favor ingresa tu nombre: Juan\n",
            "Lo siento, no puedo saludar a Juan.\n"
          ]
        }
      ]
    },
    {
      "cell_type": "code",
      "source": [
        "lista= []\n",
        "print(\"¿Cuantos elementos desea?\")\n",
        "cant = int(input())\n",
        "\n",
        "i=0\n",
        "while i<cant:\n",
        "  print(\"Ingrese el elemento\",i+1)\n",
        "  nom = input()\n",
        "  lista.append(nom)\n",
        "  i+=1\n",
        "for item in reversed(lista):\n",
        "    print(item)"
      ],
      "metadata": {
        "colab": {
          "base_uri": "https://localhost:8080/"
        },
        "id": "GJFXljHwTnKR",
        "outputId": "2403d9ea-2515-41ec-ffc1-592ad2dbe276"
      },
      "execution_count": 5,
      "outputs": [
        {
          "output_type": "stream",
          "name": "stdout",
          "text": [
            "¿Cuantos elementos desea?\n",
            "4\n",
            "Ingrese el elemento 1\n",
            "123\n",
            "Ingrese el elemento 2\n",
            "321\n",
            "Ingrese el elemento 3\n",
            "234\n",
            "Ingrese el elemento 4\n",
            "432\n",
            "432\n",
            "234\n",
            "321\n",
            "123\n"
          ]
        }
      ]
    },
    {
      "cell_type": "code",
      "source": [
        "print(\"¿Cuantos elementos desea?\")\n",
        "n = int(input())\n",
        "a = 0\n",
        "b = 1\n",
        "sum = 1\n",
        "count = 1\n",
        "print(\"Respuesta: \", end = \" \")\n",
        "while(count <= n):\n",
        "  count += 1\n",
        "  print(a, end=\" \")\n",
        "  a = b\n",
        "  b = sum\n",
        "  sum = a + b\n"
      ],
      "metadata": {
        "colab": {
          "base_uri": "https://localhost:8080/"
        },
        "id": "KcDcDRskToMM",
        "outputId": "a25e075c-d0f5-4747-adf1-4420e2d24526"
      },
      "execution_count": 6,
      "outputs": [
        {
          "output_type": "stream",
          "name": "stdout",
          "text": [
            "¿Cuantos elementos desea?\n",
            "92\n",
            "Respuesta:  0 1 1 2 3 5 8 13 21 34 55 89 144 233 377 610 987 1597 2584 4181 6765 10946 17711 28657 46368 75025 121393 196418 317811 514229 832040 1346269 2178309 3524578 5702887 9227465 14930352 24157817 39088169 63245986 102334155 165580141 267914296 433494437 701408733 1134903170 1836311903 2971215073 4807526976 7778742049 12586269025 20365011074 32951280099 53316291173 86267571272 139583862445 225851433717 365435296162 591286729879 956722026041 1548008755920 2504730781961 4052739537881 6557470319842 10610209857723 17167680177565 27777890035288 44945570212853 72723460248141 117669030460994 190392490709135 308061521170129 498454011879264 806515533049393 1304969544928657 2111485077978050 3416454622906707 5527939700884757 8944394323791464 14472334024676221 23416728348467685 37889062373143906 61305790721611591 99194853094755497 160500643816367088 259695496911122585 420196140727489673 679891637638612258 1100087778366101931 1779979416004714189 2880067194370816120 4660046610375530309 "
          ]
        }
      ]
    }
  ]
}