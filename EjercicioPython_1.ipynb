{
  "nbformat": 4,
  "nbformat_minor": 0,
  "metadata": {
    "colab": {
      "provenance": [],
      "authorship_tag": "ABX9TyOFJyTMQIEecP978YjfUgaH",
      "include_colab_link": true
    },
    "kernelspec": {
      "name": "python3",
      "display_name": "Python 3"
    },
    "language_info": {
      "name": "python"
    }
  },
  "cells": [
    {
      "cell_type": "markdown",
      "metadata": {
        "id": "view-in-github",
        "colab_type": "text"
      },
      "source": [
        "<a href=\"https://colab.research.google.com/github/EsauHV/EmmanuelEsau2077359/blob/main/EjercicioPython_1.ipynb\" target=\"_parent\"><img src=\"https://colab.research.google.com/assets/colab-badge.svg\" alt=\"Open In Colab\"/></a>"
      ]
    },
    {
      "cell_type": "code",
      "execution_count": null,
      "metadata": {
        "id": "PxLSdfMOTVgy"
      },
      "outputs": [],
      "source": [
        "\"\"\"\n",
        "Nombre: Emmanuel Esaú Heraldez Valdez\n",
        "Matricula: 2077359\n",
        "Clase: Inteligencia Artificial.\n",
        "Título: A2, Ejercicios de PYTHON\n",
        "\"\"\""
      ]
    },
    {
      "cell_type": "code",
      "source": [
        "nombre = input(\"Por favor ingresa tu nombre: \")\n",
        "\n",
        "if nombre.lower() not in [\"ana\", \"juan\", \"pedro\"]:\n",
        "    print(\"Hola \" + nombre + \", ¿cómo estás?\")\n",
        "else:\n",
        "    print(\"Lo siento, no puedo saludar a \" + nombre + \".\")"
      ],
      "metadata": {
        "id": "A6aOoZ0sT05j"
      },
      "execution_count": null,
      "outputs": []
    },
    {
      "cell_type": "code",
      "source": [
        "lista= []\n",
        "print(\"¿Cuantos elementos desea?\")\n",
        "cant = int(input())\n",
        "\n",
        "i=0\n",
        "while i<cant:\n",
        "  print(\"Ingrese el elemento\",i+1)\n",
        "  nom = input()\n",
        "  lista.append(nom)\n",
        "  i+=1\n",
        "for item in reversed(lista):\n",
        "    print(item)"
      ],
      "metadata": {
        "id": "GJFXljHwTnKR"
      },
      "execution_count": null,
      "outputs": []
    },
    {
      "cell_type": "code",
      "source": [
        "print(\"¿Cuantos elementos desea?\")\n",
        "n = int(input())\n",
        "a = 0\n",
        "b = 1\n",
        "sum = 1\n",
        "count = 1\n",
        "print(\"Respuesta: \", end = \" \")\n",
        "while(count <= n):\n",
        "  count += 1\n",
        "  print(a, end=\" \")\n",
        "  a = b\n",
        "  b = sum\n",
        "  sum = a + b\n"
      ],
      "metadata": {
        "id": "KcDcDRskToMM"
      },
      "execution_count": null,
      "outputs": []
    }
  ]
}